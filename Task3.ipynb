{
 "cells": [
  {
   "cell_type": "code",
   "execution_count": null,
   "metadata": {},
   "outputs": [],
   "source": [
    "def calculate_velocity(distance , time):\n",
    "    velocity =  distance / time\n",
    "    return velocity\n",
    "\n",
    "calculate_velocity(25 , 10)"
   ]
  },
  {
   "cell_type": "code",
   "execution_count": 3,
   "metadata": {},
   "outputs": [
    {
     "data": {
      "text/plain": [
       "72"
      ]
     },
     "execution_count": 3,
     "metadata": {},
     "output_type": "execute_result"
    }
   ],
   "source": [
    "def sum(even):\n",
    "    total=0\n",
    "    for i in even:\n",
    "        total += i\n",
    "    return total\n",
    "even=[0,2,4,6,8,10,12,14,16]\n",
    "sum(even)"
   ]
  }
 ],
 "metadata": {
  "interpreter": {
   "hash": "46707d770282bd5565a6214d804ab949fd35d9072513aa2f8233b307134ebcee"
  },
  "kernelspec": {
   "display_name": "Python 3.10.4 64-bit",
   "language": "python",
   "name": "python3"
  },
  "language_info": {
   "codemirror_mode": {
    "name": "ipython",
    "version": 3
   },
   "file_extension": ".py",
   "mimetype": "text/x-python",
   "name": "python",
   "nbconvert_exporter": "python",
   "pygments_lexer": "ipython3",
   "version": "3.10.4"
  },
  "orig_nbformat": 4
 },
 "nbformat": 4,
 "nbformat_minor": 2
}
