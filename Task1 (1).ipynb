{
 "cells": [
  {
   "cell_type": "code",
   "execution_count": null,
   "metadata": {},
   "outputs": [],
   "source": [
    "nums = [3, 4, 7, 8, 15]\n",
    "print(nums)\n",
    "for i in nums:\n",
    "    cubes = [(i**3)]\n",
    "    print(cubes)"
   ]
  },
  {
   "cell_type": "code",
   "execution_count": null,
   "metadata": {},
   "outputs": [],
   "source": [
    "dic = {}\n",
    "print(dic)\n",
    "dic[\"person\"] = 2\n",
    "dic[\"cat\"] = 4\n",
    "dic[\"spider\"] = 8\n",
    "dic[\"horse\"] = 2\n",
    "\n",
    "for key, value in dic.items():\n",
    "  print(key, \"has\", value, \"legs\")\n",
    "\n",
    "print(\"Total legs are\", sum(dic.values()))"
   ]
  },
  {
   "cell_type": "code",
   "execution_count": null,
   "metadata": {},
   "outputs": [],
   "source": [
    "D = (1,15,4,[5,10])\n",
    "print(D)\n",
    "x = (1,15,4,[5,10])\n",
    "y = list(x)\n",
    "y[3] = 3,5\n",
    "x = tuple(y)\n",
    "print(x)\n",
    "del x\n",
    "print(x)"
   ]
  },
  {
   "cell_type": "code",
   "execution_count": null,
   "metadata": {},
   "outputs": [],
   "source": [
    "E = ('a','p','p','l','e')\n",
    "x = E.count('p')\n",
    "print(x, \"times\")\n",
    "x = E.index('l')\n",
    "print(x)"
   ]
  }
 ],
 "metadata": {
  "interpreter": {
   "hash": "46707d770282bd5565a6214d804ab949fd35d9072513aa2f8233b307134ebcee"
  },
  "kernelspec": {
   "display_name": "Python 3.10.4 64-bit",
   "language": "python",
   "name": "python3"
  },
  "language_info": {
   "codemirror_mode": {
    "name": "ipython",
    "version": 3
   },
   "file_extension": ".py",
   "mimetype": "text/x-python",
   "name": "python",
   "nbconvert_exporter": "python",
   "pygments_lexer": "ipython3",
   "version": "3.10.4"
  },
  "orig_nbformat": 4
 },
 "nbformat": 4,
 "nbformat_minor": 2
}
